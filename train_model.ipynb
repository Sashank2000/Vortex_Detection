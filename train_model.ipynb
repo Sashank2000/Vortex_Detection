{
 "cells": [
  {
   "cell_type": "code",
   "execution_count": 15,
   "id": "08fb5e5a",
   "metadata": {},
   "outputs": [],
   "source": [
    "import numpy as np\n",
    "import os\n",
    "from matplotlib import pyplot as plt\n",
    "import cv2\n",
    "import random\n",
    "import pickle"
   ]
  },
  {
   "cell_type": "code",
   "execution_count": 16,
   "id": "3d6745ee",
   "metadata": {},
   "outputs": [],
   "source": [
    "file_list, class_list = [], []\n",
    "\n",
    "IMG_SIZE = 80\n",
    "DATADIR = '/home/sashankk/Proj/integrate/CNN_Model/Train'\n",
    "CATEGORIES = [\"left\",\"right\",\"up\",\"down\"]\n",
    "\n",
    "for category in CATEGORIES :\n",
    "    path = os.path.join(DATADIR, category)\n",
    "    for img in os.listdir(path):\n",
    "        img_array = cv2.imread(os.path.join(path, img), cv2.IMREAD_GRAYSCALE)\n",
    "        #plt.imshow(img_array)\n",
    "\n",
    "training_data = []\n",
    "\n",
    "def create_training_data():\n",
    "    for category in CATEGORIES :\n",
    "        path = os.path.join(DATADIR, category)\n",
    "        class_num = CATEGORIES.index(category)\n",
    "        for img in os.listdir(path):\n",
    "            try :\n",
    "                img_array = cv2.imread(os.path.join(path, img), cv2.IMREAD_GRAYSCALE)\n",
    "                #print(img_array,len(img_array))\n",
    "                new_array = cv2.resize(img_array, (IMG_SIZE, IMG_SIZE))\n",
    "                training_data.append([new_array, class_num])\n",
    "            except Exception as e:\n",
    "                pass\n",
    "\n",
    "create_training_data()\n",
    "X, y = [], []\n",
    "\n",
    "for features, label in training_data:\n",
    "    X.append(features)\n",
    "    y.append(label)\n",
    "\n",
    "#print(len(X),len(y),X[0])\n",
    "\n",
    "#print(y)\n"
   ]
  },
  {
   "cell_type": "code",
   "execution_count": 17,
   "id": "8db1186e",
   "metadata": {},
   "outputs": [],
   "source": [
    "X = np.array(X).reshape(-1, IMG_SIZE, IMG_SIZE, 1)\n",
    "#print(len(X[0]))\n",
    "y = np.array(y)\n",
    "\n",
    "# Creating the files containing all the information about your model\n",
    "pickle_out = open(\"X.pickle\", \"wb\")\n",
    "pickle.dump(X, pickle_out)\n",
    "pickle_out.close()\n",
    "\n",
    "pickle_out = open(\"y.pickle\", \"wb\")\n",
    "pickle.dump(y, pickle_out)\n",
    "pickle_out.close()\n",
    "\n",
    "pickle_in = open(\"X.pickle\", \"rb\")\n",
    "X = pickle.load(pickle_in)"
   ]
  },
  {
   "cell_type": "code",
   "execution_count": 18,
   "id": "21476ff4",
   "metadata": {},
   "outputs": [],
   "source": [
    "import tensorflow as tf \n",
    "from tensorflow.keras.models import Sequential\n",
    "from tensorflow.keras.layers import Dense, Dropout, Activation, Flatten, Conv2D, MaxPooling2D\n",
    "import pickle\n",
    "from keras.models import model_from_json\n",
    "from keras.models import load_model\n",
    "import matplotlib.pyplot as plt"
   ]
  },
  {
   "cell_type": "code",
   "execution_count": 19,
   "id": "edfd648d",
   "metadata": {},
   "outputs": [],
   "source": [
    "# Opening the files about data\n",
    "X = pickle.load(open(\"X.pickle\", \"rb\"))\n",
    "y = pickle.load(open(\"y.pickle\", \"rb\"))\n",
    "\n",
    "# normalizing data (a pixel goes from 0 to 255)\n",
    "X = X/255.0"
   ]
  },
  {
   "cell_type": "code",
   "execution_count": 20,
   "id": "61ef340b",
   "metadata": {},
   "outputs": [],
   "source": [
    "# Building the model\n",
    "model = Sequential()\n",
    "# 3 convolutional layers\n",
    "model.add(Conv2D(32, (3, 3), input_shape = X.shape[1:]))\n",
    "model.add(Activation(\"relu\"))\n",
    "model.add(MaxPooling2D(pool_size=(2,2)))\n",
    "\n",
    "model.add(Conv2D(64, (3, 3)))\n",
    "model.add(Activation(\"relu\"))\n",
    "model.add(MaxPooling2D(pool_size=(2,2)))\n",
    "\n",
    "model.add(Conv2D(64, (3, 3)))\n",
    "model.add(Activation(\"relu\"))\n",
    "model.add(MaxPooling2D(pool_size=(2,2)))\n",
    "model.add(Dropout(0.25))\n",
    "\n",
    "# 2 hidden layers\n",
    "model.add(Flatten())\n",
    "model.add(Dense(128))\n",
    "model.add(Activation(\"relu\"))\n",
    "\n",
    "model.add(Dense(128))\n",
    "model.add(Activation(\"relu\"))\n",
    "\n",
    "# The output layer with 2 neurons, for 2 classes\n",
    "model.add(Dense(4))\n",
    "model.add(Activation(\"softmax\"))"
   ]
  },
  {
   "cell_type": "code",
   "execution_count": 21,
   "id": "716d2e10",
   "metadata": {},
   "outputs": [
    {
     "name": "stdout",
     "output_type": "stream",
     "text": [
      "Model: \"sequential_1\"\n",
      "_________________________________________________________________\n",
      " Layer (type)                Output Shape              Param #   \n",
      "=================================================================\n",
      " conv2d_3 (Conv2D)           (None, 78, 78, 32)        320       \n",
      "                                                                 \n",
      " activation_6 (Activation)   (None, 78, 78, 32)        0         \n",
      "                                                                 \n",
      " max_pooling2d_3 (MaxPooling  (None, 39, 39, 32)       0         \n",
      " 2D)                                                             \n",
      "                                                                 \n",
      " conv2d_4 (Conv2D)           (None, 37, 37, 64)        18496     \n",
      "                                                                 \n",
      " activation_7 (Activation)   (None, 37, 37, 64)        0         \n",
      "                                                                 \n",
      " max_pooling2d_4 (MaxPooling  (None, 18, 18, 64)       0         \n",
      " 2D)                                                             \n",
      "                                                                 \n",
      " conv2d_5 (Conv2D)           (None, 16, 16, 64)        36928     \n",
      "                                                                 \n",
      " activation_8 (Activation)   (None, 16, 16, 64)        0         \n",
      "                                                                 \n",
      " max_pooling2d_5 (MaxPooling  (None, 8, 8, 64)         0         \n",
      " 2D)                                                             \n",
      "                                                                 \n",
      " dropout_1 (Dropout)         (None, 8, 8, 64)          0         \n",
      "                                                                 \n",
      " flatten_1 (Flatten)         (None, 4096)              0         \n",
      "                                                                 \n",
      " dense_3 (Dense)             (None, 128)               524416    \n",
      "                                                                 \n",
      " activation_9 (Activation)   (None, 128)               0         \n",
      "                                                                 \n",
      " dense_4 (Dense)             (None, 128)               16512     \n",
      "                                                                 \n",
      " activation_10 (Activation)  (None, 128)               0         \n",
      "                                                                 \n",
      " dense_5 (Dense)             (None, 4)                 516       \n",
      "                                                                 \n",
      " activation_11 (Activation)  (None, 4)                 0         \n",
      "                                                                 \n",
      "=================================================================\n",
      "Total params: 597,188\n",
      "Trainable params: 597,188\n",
      "Non-trainable params: 0\n",
      "_________________________________________________________________\n"
     ]
    }
   ],
   "source": [
    "model.summary()"
   ]
  },
  {
   "cell_type": "code",
   "execution_count": 22,
   "id": "58c6c18c",
   "metadata": {},
   "outputs": [
    {
     "name": "stdout",
     "output_type": "stream",
     "text": [
      "Epoch 1/40\n",
      "14/14 [==============================] - 4s 237ms/step - loss: 1.3799 - accuracy: 0.2640 - val_loss: 2.0284 - val_accuracy: 0.0000e+00\n",
      "Epoch 2/40\n",
      "14/14 [==============================] - 3s 220ms/step - loss: 1.3687 - accuracy: 0.2953 - val_loss: 1.4429 - val_accuracy: 0.0000e+00\n",
      "Epoch 3/40\n",
      "14/14 [==============================] - 3s 223ms/step - loss: 1.2584 - accuracy: 0.4452 - val_loss: 1.1170 - val_accuracy: 0.6250\n",
      "Epoch 4/40\n",
      "14/14 [==============================] - 3s 225ms/step - loss: 1.0138 - accuracy: 0.5503 - val_loss: 1.0298 - val_accuracy: 0.5000\n",
      "Epoch 5/40\n",
      "14/14 [==============================] - 3s 222ms/step - loss: 0.8776 - accuracy: 0.5638 - val_loss: 0.9847 - val_accuracy: 0.2917\n",
      "Epoch 6/40\n",
      "14/14 [==============================] - 3s 228ms/step - loss: 0.8083 - accuracy: 0.5526 - val_loss: 0.6281 - val_accuracy: 0.7500\n",
      "Epoch 7/40\n",
      "14/14 [==============================] - 3s 232ms/step - loss: 0.7436 - accuracy: 0.5817 - val_loss: 0.8814 - val_accuracy: 0.3750\n",
      "Epoch 8/40\n",
      "14/14 [==============================] - 3s 234ms/step - loss: 0.7228 - accuracy: 0.5906 - val_loss: 0.7233 - val_accuracy: 0.6250\n",
      "Epoch 9/40\n",
      "14/14 [==============================] - 3s 227ms/step - loss: 0.7102 - accuracy: 0.5996 - val_loss: 0.6833 - val_accuracy: 0.5833\n",
      "Epoch 10/40\n",
      "14/14 [==============================] - 4s 288ms/step - loss: 0.7005 - accuracy: 0.5928 - val_loss: 0.6237 - val_accuracy: 0.7083\n",
      "Epoch 11/40\n",
      "14/14 [==============================] - 4s 247ms/step - loss: 0.6999 - accuracy: 0.5951 - val_loss: 1.2173 - val_accuracy: 0.2917\n",
      "Epoch 12/40\n",
      "14/14 [==============================] - 3s 244ms/step - loss: 0.6798 - accuracy: 0.5727 - val_loss: 0.8163 - val_accuracy: 0.5000\n",
      "Epoch 13/40\n",
      "14/14 [==============================] - 3s 238ms/step - loss: 0.6742 - accuracy: 0.5861 - val_loss: 0.9352 - val_accuracy: 0.2500\n",
      "Epoch 14/40\n",
      "14/14 [==============================] - 3s 247ms/step - loss: 0.6634 - accuracy: 0.5906 - val_loss: 1.1026 - val_accuracy: 0.1250\n",
      "Epoch 15/40\n",
      "14/14 [==============================] - 3s 227ms/step - loss: 0.6842 - accuracy: 0.5727 - val_loss: 0.6510 - val_accuracy: 0.6250\n",
      "Epoch 16/40\n",
      "14/14 [==============================] - 3s 231ms/step - loss: 0.6603 - accuracy: 0.6107 - val_loss: 1.1178 - val_accuracy: 0.0833\n",
      "Epoch 17/40\n",
      "14/14 [==============================] - 3s 230ms/step - loss: 0.6619 - accuracy: 0.5906 - val_loss: 1.0098 - val_accuracy: 0.1250\n",
      "Epoch 18/40\n",
      "14/14 [==============================] - 3s 234ms/step - loss: 0.6466 - accuracy: 0.6130 - val_loss: 0.8134 - val_accuracy: 0.3750\n",
      "Epoch 19/40\n",
      "14/14 [==============================] - 3s 231ms/step - loss: 0.6672 - accuracy: 0.5996 - val_loss: 0.8904 - val_accuracy: 0.2500\n",
      "Epoch 20/40\n",
      "14/14 [==============================] - 5s 331ms/step - loss: 0.6416 - accuracy: 0.6242 - val_loss: 0.9268 - val_accuracy: 0.2917\n",
      "Epoch 21/40\n",
      "14/14 [==============================] - 3s 230ms/step - loss: 0.6343 - accuracy: 0.6018 - val_loss: 0.9186 - val_accuracy: 0.3333\n",
      "Epoch 22/40\n",
      "14/14 [==============================] - 3s 231ms/step - loss: 0.6580 - accuracy: 0.5839 - val_loss: 1.1544 - val_accuracy: 0.1250\n",
      "Epoch 23/40\n",
      "14/14 [==============================] - 3s 236ms/step - loss: 0.6353 - accuracy: 0.6130 - val_loss: 1.0830 - val_accuracy: 0.2083\n",
      "Epoch 24/40\n",
      "14/14 [==============================] - 3s 230ms/step - loss: 0.6565 - accuracy: 0.6107 - val_loss: 0.9911 - val_accuracy: 0.1667\n",
      "Epoch 25/40\n",
      "14/14 [==============================] - 3s 231ms/step - loss: 0.6298 - accuracy: 0.5951 - val_loss: 1.1100 - val_accuracy: 0.1250\n",
      "Epoch 26/40\n",
      "14/14 [==============================] - 3s 234ms/step - loss: 0.6279 - accuracy: 0.6085 - val_loss: 1.0839 - val_accuracy: 0.1667\n",
      "Epoch 27/40\n",
      "14/14 [==============================] - 3s 230ms/step - loss: 0.6437 - accuracy: 0.6174 - val_loss: 0.9859 - val_accuracy: 0.4167\n",
      "Epoch 28/40\n",
      "14/14 [==============================] - 4s 307ms/step - loss: 0.6350 - accuracy: 0.5996 - val_loss: 1.0697 - val_accuracy: 0.1667\n",
      "Epoch 29/40\n",
      "14/14 [==============================] - 3s 244ms/step - loss: 0.6175 - accuracy: 0.6219 - val_loss: 1.3895 - val_accuracy: 0.1250\n",
      "Epoch 30/40\n",
      "14/14 [==============================] - 3s 231ms/step - loss: 0.6229 - accuracy: 0.6152 - val_loss: 0.9092 - val_accuracy: 0.2500\n",
      "Epoch 31/40\n",
      "14/14 [==============================] - 3s 229ms/step - loss: 0.6179 - accuracy: 0.6107 - val_loss: 1.0438 - val_accuracy: 0.1667\n",
      "Epoch 32/40\n",
      "14/14 [==============================] - 3s 231ms/step - loss: 0.6137 - accuracy: 0.5951 - val_loss: 1.4658 - val_accuracy: 0.1250\n",
      "Epoch 33/40\n",
      "14/14 [==============================] - 4s 257ms/step - loss: 0.6072 - accuracy: 0.6286 - val_loss: 1.0152 - val_accuracy: 0.3333\n",
      "Epoch 34/40\n",
      "14/14 [==============================] - 3s 232ms/step - loss: 0.6192 - accuracy: 0.5928 - val_loss: 1.1739 - val_accuracy: 0.1667\n",
      "Epoch 35/40\n",
      "14/14 [==============================] - 4s 253ms/step - loss: 0.5999 - accuracy: 0.6264 - val_loss: 1.4066 - val_accuracy: 0.1250\n",
      "Epoch 36/40\n",
      "14/14 [==============================] - 4s 259ms/step - loss: 0.6000 - accuracy: 0.6152 - val_loss: 1.4137 - val_accuracy: 0.1250\n",
      "Epoch 37/40\n",
      "14/14 [==============================] - 3s 237ms/step - loss: 0.6094 - accuracy: 0.5973 - val_loss: 1.3573 - val_accuracy: 0.1250\n",
      "Epoch 38/40\n",
      "14/14 [==============================] - 3s 227ms/step - loss: 0.5984 - accuracy: 0.5749 - val_loss: 1.3301 - val_accuracy: 0.1667\n",
      "Epoch 39/40\n",
      "14/14 [==============================] - 4s 254ms/step - loss: 0.5862 - accuracy: 0.6152 - val_loss: 1.4317 - val_accuracy: 0.1250\n",
      "Epoch 40/40\n",
      "14/14 [==============================] - 3s 233ms/step - loss: 0.5886 - accuracy: 0.5884 - val_loss: 1.4337 - val_accuracy: 0.1250\n"
     ]
    }
   ],
   "source": [
    "# Compiling the model using some basic parameters\n",
    "model.compile(loss=\"sparse_categorical_crossentropy\",\n",
    "                optimizer=\"adam\",\n",
    "                metrics=[\"accuracy\"])\n",
    "\n",
    "# Training the model, with 40 iterations\n",
    "# validation_split corresponds to the percentage of images used for the validation phase compared to all the images\n",
    "history = model.fit(X, y, batch_size=32, epochs=40, validation_split=0.05)"
   ]
  },
  {
   "cell_type": "code",
   "execution_count": 23,
   "id": "97c2ab60",
   "metadata": {},
   "outputs": [
    {
     "name": "stdout",
     "output_type": "stream",
     "text": [
      "Saved model to disk\n"
     ]
    },
    {
     "name": "stderr",
     "output_type": "stream",
     "text": [
      "WARNING:absl:Found untraced functions such as _jit_compiled_convolution_op, _jit_compiled_convolution_op, _jit_compiled_convolution_op while saving (showing 3 of 3). These functions will not be directly callable after loading.\n"
     ]
    },
    {
     "name": "stdout",
     "output_type": "stream",
     "text": [
      "INFO:tensorflow:Assets written to: CNN.model/assets\n"
     ]
    },
    {
     "name": "stderr",
     "output_type": "stream",
     "text": [
      "INFO:tensorflow:Assets written to: CNN.model/assets\n"
     ]
    }
   ],
   "source": [
    "model_json = model.to_json()\n",
    "with open(\"model.json\", \"w\") as json_file :\n",
    "    json_file.write(model_json)\n",
    "\n",
    "model.save_weights(\"model.h5\")\n",
    "print(\"Saved model to disk\")\n",
    "\n",
    "model.save('CNN.model')"
   ]
  },
  {
   "cell_type": "code",
   "execution_count": 24,
   "id": "bca8fd37",
   "metadata": {},
   "outputs": [
    {
     "name": "stdout",
     "output_type": "stream",
     "text": [
      "dict_keys(['loss', 'accuracy', 'val_loss', 'val_accuracy'])\n"
     ]
    },
    {
     "data": {
      "image/png": "[encoded data removed]",
      "text/plain": [
       "<Figure size 640x480 with 1 Axes>"
      ]
     },
     "metadata": {},
     "output_type": "display_data"
    }
   ],
   "source": [
    "print(history.history.keys())\n",
    "plt.figure(1)\n",
    "plt.plot(history.history['accuracy'])\n",
    "plt.plot(history.history['val_accuracy'])\n",
    "plt.title('model accuracy')\n",
    "plt.ylabel('accuracy')\n",
    "plt.xlabel('epoch')\n",
    "plt.legend(['train', 'validation'], loc='upper left')\n",
    "plt.show()"
   ]
  },
  {
   "cell_type": "code",
   "execution_count": null,
   "id": "16fb16ea",
   "metadata": {},
   "outputs": [],
   "source": []
  }
 ],
 "metadata": {
  "kernelspec": {
   "display_name": "Python 3 (ipykernel)",
   "language": "python",
   "name": "python3"
  },
  "language_info": {
   "codemirror_mode": {
    "name": "ipython",
    "version": 3
   },
   "file_extension": ".py",
   "mimetype": "text/x-python",
   "name": "python",
   "nbconvert_exporter": "python",
   "pygments_lexer": "ipython3",
   "version": "3.10.6"
  }
 },
 "nbformat": 4,
 "nbformat_minor": 5
}
