{
 "cells": [
  {
   "cell_type": "code",
   "execution_count": 1,
   "id": "08fb5e5a",
   "metadata": {},
   "outputs": [],
   "source": [
    "import numpy as np\n",
    "import os\n",
    "from matplotlib import pyplot as plt\n",
    "import cv2\n",
    "import random\n",
    "import pickle"
   ]
  },
  {
   "cell_type": "code",
   "execution_count": 2,
   "id": "3d6745ee",
   "metadata": {},
   "outputs": [],
   "source": [
    "file_list, class_list = [], []\n",
    "\n",
    "IMG_SIZE = 80\n",
    "DATADIR = 'Train'\n",
    "CATEGORIES = [\"left\",\"right\",\"up\",\"down\"]\n",
    "\n",
    "for category in CATEGORIES :\n",
    "    path = os.path.join(DATADIR, category)\n",
    "    for img in os.listdir(path):\n",
    "        img_array = cv2.imread(os.path.join(path, img), cv2.IMREAD_GRAYSCALE)\n",
    "        #plt.imshow(img_array)\n",
    "\n",
    "training_data = []\n",
    "\n",
    "def create_training_data():\n",
    "    for category in CATEGORIES :\n",
    "        path = os.path.join(DATADIR, category)\n",
    "        class_num = CATEGORIES.index(category)\n",
    "        for img in os.listdir(path):\n",
    "            try :\n",
    "                img_array = cv2.imread(os.path.join(path, img), cv2.IMREAD_GRAYSCALE)\n",
    "                #print(img_array,len(img_array))\n",
    "                new_array = cv2.resize(img_array, (IMG_SIZE, IMG_SIZE))\n",
    "                training_data.append([new_array, class_num])\n",
    "            except Exception as e:\n",
    "                pass\n",
    "\n",
    "create_training_data()\n",
    "X, y = [], []\n",
    "\n",
    "for features, label in training_data:\n",
    "    X.append(features)\n",
    "    y.append(label)\n",
    "\n",
    "#print(len(X),len(y),X[0])\n",
    "\n",
    "#print(y)\n"
   ]
  },
  {
   "cell_type": "code",
   "execution_count": 3,
   "id": "8db1186e",
   "metadata": {},
   "outputs": [],
   "source": [
    "X = np.array(X).reshape(-1, IMG_SIZE, IMG_SIZE, 1)\n",
    "#print(len(X[0]))\n",
    "y = np.array(y)\n",
    "\n",
    "# Creating the files containing all the information about your model\n",
    "pickle_out = open(\"X.pickle\", \"wb\")\n",
    "pickle.dump(X, pickle_out)\n",
    "pickle_out.close()\n",
    "\n",
    "pickle_out = open(\"y.pickle\", \"wb\")\n",
    "pickle.dump(y, pickle_out)\n",
    "pickle_out.close()\n",
    "\n",
    "pickle_in = open(\"X.pickle\", \"rb\")\n",
    "X = pickle.load(pickle_in)"
   ]
  },
  {
   "cell_type": "code",
   "execution_count": 4,
   "id": "21476ff4",
   "metadata": {},
   "outputs": [
    {
     "name": "stderr",
     "output_type": "stream",
     "text": [
      "2022-10-03 21:51:54.934706: I tensorflow/core/platform/cpu_feature_guard.cc:193] This TensorFlow binary is optimized with oneAPI Deep Neural Network Library (oneDNN) to use the following CPU instructions in performance-critical operations:  AVX2\n",
      "To enable them in other operations, rebuild TensorFlow with the appropriate compiler flags.\n",
      "2022-10-03 21:51:55.879028: W tensorflow/stream_executor/platform/default/dso_loader.cc:64] Could not load dynamic library 'libcudart.so.11.0'; dlerror: libcudart.so.11.0: cannot open shared object file: No such file or directory; LD_LIBRARY_PATH: /home/sashankk/miniconda3/envs/vortexdetect/lib/python3.10/site-packages/cv2/../../lib64:\n",
      "2022-10-03 21:51:55.879064: I tensorflow/stream_executor/cuda/cudart_stub.cc:29] Ignore above cudart dlerror if you do not have a GPU set up on your machine.\n",
      "2022-10-03 21:51:55.977800: E tensorflow/stream_executor/cuda/cuda_blas.cc:2981] Unable to register cuBLAS factory: Attempting to register factory for plugin cuBLAS when one has already been registered\n",
      "2022-10-03 21:51:57.627120: W tensorflow/stream_executor/platform/default/dso_loader.cc:64] Could not load dynamic library 'libnvinfer.so.7'; dlerror: libnvinfer.so.7: cannot open shared object file: No such file or directory; LD_LIBRARY_PATH: /home/sashankk/miniconda3/envs/vortexdetect/lib/python3.10/site-packages/cv2/../../lib64:\n",
      "2022-10-03 21:51:57.627249: W tensorflow/stream_executor/platform/default/dso_loader.cc:64] Could not load dynamic library 'libnvinfer_plugin.so.7'; dlerror: libnvinfer_plugin.so.7: cannot open shared object file: No such file or directory; LD_LIBRARY_PATH: /home/sashankk/miniconda3/envs/vortexdetect/lib/python3.10/site-packages/cv2/../../lib64:\n",
      "2022-10-03 21:51:57.627259: W tensorflow/compiler/tf2tensorrt/utils/py_utils.cc:38] TF-TRT Warning: Cannot dlopen some TensorRT libraries. If you would like to use Nvidia GPU with TensorRT, please make sure the missing libraries mentioned above are installed properly.\n"
     ]
    }
   ],
   "source": [
    "import tensorflow as tf \n",
    "from tensorflow.keras.models import Sequential\n",
    "from tensorflow.keras.layers import Dense, Dropout, Activation, Flatten, Conv2D, MaxPooling2D\n",
    "import pickle\n",
    "from keras.models import model_from_json\n",
    "from keras.models import load_model\n",
    "import matplotlib.pyplot as plt"
   ]
  },
  {
   "cell_type": "code",
   "execution_count": 5,
   "id": "edfd648d",
   "metadata": {},
   "outputs": [],
   "source": [
    "# Opening the files about data\n",
    "X = pickle.load(open(\"X.pickle\", \"rb\"))\n",
    "y = pickle.load(open(\"y.pickle\", \"rb\"))\n",
    "\n",
    "# normalizing data (a pixel goes from 0 to 255)\n",
    "X = X/255.0"
   ]
  },
  {
   "cell_type": "code",
   "execution_count": 6,
   "id": "61ef340b",
   "metadata": {},
   "outputs": [
    {
     "name": "stderr",
     "output_type": "stream",
     "text": [
      "2022-10-03 21:51:59.580171: W tensorflow/stream_executor/platform/default/dso_loader.cc:64] Could not load dynamic library 'libcuda.so.1'; dlerror: libcuda.so.1: cannot open shared object file: No such file or directory; LD_LIBRARY_PATH: /home/sashankk/miniconda3/envs/vortexdetect/lib/python3.10/site-packages/cv2/../../lib64:\n",
      "2022-10-03 21:51:59.580763: W tensorflow/stream_executor/cuda/cuda_driver.cc:263] failed call to cuInit: UNKNOWN ERROR (303)\n",
      "2022-10-03 21:51:59.580798: I tensorflow/stream_executor/cuda/cuda_diagnostics.cc:156] kernel driver does not appear to be running on this host (sashankk-VirtualBox): /proc/driver/nvidia/version does not exist\n",
      "2022-10-03 21:51:59.581990: I tensorflow/core/platform/cpu_feature_guard.cc:193] This TensorFlow binary is optimized with oneAPI Deep Neural Network Library (oneDNN) to use the following CPU instructions in performance-critical operations:  AVX2\n",
      "To enable them in other operations, rebuild TensorFlow with the appropriate compiler flags.\n"
     ]
    }
   ],
   "source": [
    "# Building the model\n",
    "model = Sequential()\n",
    "# 3 convolutional layers\n",
    "model.add(Conv2D(32, (3, 3), input_shape = X.shape[1:]))\n",
    "model.add(Activation(\"relu\"))\n",
    "model.add(MaxPooling2D(pool_size=(2,2)))\n",
    "\n",
    "model.add(Conv2D(64, (3, 3)))\n",
    "model.add(Activation(\"relu\"))\n",
    "model.add(MaxPooling2D(pool_size=(2,2)))\n",
    "\n",
    "model.add(Conv2D(64, (3, 3)))\n",
    "model.add(Activation(\"relu\"))\n",
    "model.add(MaxPooling2D(pool_size=(2,2)))\n",
    "model.add(Dropout(0.25))\n",
    "\n",
    "# 2 hidden layers\n",
    "model.add(Flatten())\n",
    "model.add(Dense(128))\n",
    "model.add(Activation(\"relu\"))\n",
    "\n",
    "model.add(Dense(128))\n",
    "model.add(Activation(\"relu\"))\n",
    "\n",
    "# The output layer with 2 neurons, for 2 classes\n",
    "model.add(Dense(4))\n",
    "model.add(Activation(\"softmax\"))"
   ]
  },
  {
   "cell_type": "code",
   "execution_count": 7,
   "id": "716d2e10",
   "metadata": {},
   "outputs": [
    {
     "name": "stdout",
     "output_type": "stream",
     "text": [
      "Model: \"sequential\"\n",
      "_________________________________________________________________\n",
      " Layer (type)                Output Shape              Param #   \n",
      "=================================================================\n",
      " conv2d (Conv2D)             (None, 78, 78, 32)        320       \n",
      "                                                                 \n",
      " activation (Activation)     (None, 78, 78, 32)        0         \n",
      "                                                                 \n",
      " max_pooling2d (MaxPooling2D  (None, 39, 39, 32)       0         \n",
      " )                                                               \n",
      "                                                                 \n",
      " conv2d_1 (Conv2D)           (None, 37, 37, 64)        18496     \n",
      "                                                                 \n",
      " activation_1 (Activation)   (None, 37, 37, 64)        0         \n",
      "                                                                 \n",
      " max_pooling2d_1 (MaxPooling  (None, 18, 18, 64)       0         \n",
      " 2D)                                                             \n",
      "                                                                 \n",
      " conv2d_2 (Conv2D)           (None, 16, 16, 64)        36928     \n",
      "                                                                 \n",
      " activation_2 (Activation)   (None, 16, 16, 64)        0         \n",
      "                                                                 \n",
      " max_pooling2d_2 (MaxPooling  (None, 8, 8, 64)         0         \n",
      " 2D)                                                             \n",
      "                                                                 \n",
      " dropout (Dropout)           (None, 8, 8, 64)          0         \n",
      "                                                                 \n",
      " flatten (Flatten)           (None, 4096)              0         \n",
      "                                                                 \n",
      " dense (Dense)               (None, 128)               524416    \n",
      "                                                                 \n",
      " activation_3 (Activation)   (None, 128)               0         \n",
      "                                                                 \n",
      " dense_1 (Dense)             (None, 128)               16512     \n",
      "                                                                 \n",
      " activation_4 (Activation)   (None, 128)               0         \n",
      "                                                                 \n",
      " dense_2 (Dense)             (None, 4)                 516       \n",
      "                                                                 \n",
      " activation_5 (Activation)   (None, 4)                 0         \n",
      "                                                                 \n",
      "=================================================================\n",
      "Total params: 597,188\n",
      "Trainable params: 597,188\n",
      "Non-trainable params: 0\n",
      "_________________________________________________________________\n"
     ]
    }
   ],
   "source": [
    "model.summary()"
   ]
  },
  {
   "cell_type": "code",
   "execution_count": 8,
   "id": "58c6c18c",
   "metadata": {},
   "outputs": [
    {
     "name": "stdout",
     "output_type": "stream",
     "text": [
      "Epoch 1/40\n",
      "14/14 [==============================] - 5s 282ms/step - loss: 1.3829 - accuracy: 0.2796 - val_loss: 1.7584 - val_accuracy: 0.0000e+00\n",
      "Epoch 2/40\n",
      "14/14 [==============================] - 4s 259ms/step - loss: 1.3473 - accuracy: 0.3445 - val_loss: 1.6634 - val_accuracy: 0.0000e+00\n",
      "Epoch 3/40\n",
      "14/14 [==============================] - 4s 254ms/step - loss: 1.1324 - accuracy: 0.5280 - val_loss: 1.0244 - val_accuracy: 0.3333\n",
      "Epoch 4/40\n",
      "14/14 [==============================] - 4s 255ms/step - loss: 0.9201 - accuracy: 0.5347 - val_loss: 0.8167 - val_accuracy: 0.6250\n",
      "Epoch 5/40\n",
      "14/14 [==============================] - 4s 251ms/step - loss: 0.8335 - accuracy: 0.5861 - val_loss: 0.5856 - val_accuracy: 0.7917\n",
      "Epoch 6/40\n",
      "14/14 [==============================] - 4s 253ms/step - loss: 0.7473 - accuracy: 0.5794 - val_loss: 0.9627 - val_accuracy: 0.1667\n",
      "Epoch 7/40\n",
      "14/14 [==============================] - 4s 253ms/step - loss: 0.7293 - accuracy: 0.5884 - val_loss: 1.0839 - val_accuracy: 0.1250\n",
      "Epoch 8/40\n",
      "14/14 [==============================] - 4s 256ms/step - loss: 0.7062 - accuracy: 0.5861 - val_loss: 0.8986 - val_accuracy: 0.3333\n",
      "Epoch 9/40\n",
      "14/14 [==============================] - 4s 255ms/step - loss: 0.7015 - accuracy: 0.5638 - val_loss: 0.9843 - val_accuracy: 0.0833\n",
      "Epoch 10/40\n",
      "14/14 [==============================] - 4s 253ms/step - loss: 0.6763 - accuracy: 0.6219 - val_loss: 0.8008 - val_accuracy: 0.3333\n",
      "Epoch 11/40\n",
      "14/14 [==============================] - 3s 246ms/step - loss: 0.6911 - accuracy: 0.5727 - val_loss: 0.7809 - val_accuracy: 0.4583\n",
      "Epoch 12/40\n",
      "14/14 [==============================] - 4s 256ms/step - loss: 0.6897 - accuracy: 0.6040 - val_loss: 0.9491 - val_accuracy: 0.3750\n",
      "Epoch 13/40\n",
      "14/14 [==============================] - 4s 277ms/step - loss: 0.6744 - accuracy: 0.6197 - val_loss: 1.2805 - val_accuracy: 0.0833\n",
      "Epoch 14/40\n",
      "14/14 [==============================] - 4s 257ms/step - loss: 0.6551 - accuracy: 0.6152 - val_loss: 0.8017 - val_accuracy: 0.3750\n",
      "Epoch 15/40\n",
      "14/14 [==============================] - 4s 257ms/step - loss: 0.6887 - accuracy: 0.6018 - val_loss: 0.9276 - val_accuracy: 0.0833\n",
      "Epoch 16/40\n",
      "14/14 [==============================] - 4s 262ms/step - loss: 0.6476 - accuracy: 0.6130 - val_loss: 0.7819 - val_accuracy: 0.4167\n",
      "Epoch 17/40\n",
      "14/14 [==============================] - 3s 248ms/step - loss: 0.6514 - accuracy: 0.6242 - val_loss: 1.0195 - val_accuracy: 0.2083\n",
      "Epoch 18/40\n",
      "14/14 [==============================] - 3s 249ms/step - loss: 0.6871 - accuracy: 0.5928 - val_loss: 0.8607 - val_accuracy: 0.3750\n",
      "Epoch 19/40\n",
      "14/14 [==============================] - 3s 248ms/step - loss: 0.6458 - accuracy: 0.6264 - val_loss: 0.8518 - val_accuracy: 0.3750\n",
      "Epoch 20/40\n",
      "14/14 [==============================] - 4s 251ms/step - loss: 0.6510 - accuracy: 0.5951 - val_loss: 1.0838 - val_accuracy: 0.0833\n",
      "Epoch 21/40\n",
      "14/14 [==============================] - 4s 259ms/step - loss: 0.6439 - accuracy: 0.5906 - val_loss: 1.1747 - val_accuracy: 0.0833\n",
      "Epoch 22/40\n",
      "14/14 [==============================] - 4s 254ms/step - loss: 0.6359 - accuracy: 0.5817 - val_loss: 0.9663 - val_accuracy: 0.2500\n",
      "Epoch 23/40\n",
      "14/14 [==============================] - 4s 255ms/step - loss: 0.6310 - accuracy: 0.5973 - val_loss: 1.0315 - val_accuracy: 0.2500\n",
      "Epoch 24/40\n",
      "14/14 [==============================] - 3s 247ms/step - loss: 0.6358 - accuracy: 0.6063 - val_loss: 1.0646 - val_accuracy: 0.1250\n",
      "Epoch 25/40\n",
      "14/14 [==============================] - 4s 252ms/step - loss: 0.6400 - accuracy: 0.6286 - val_loss: 0.8076 - val_accuracy: 0.5000\n",
      "Epoch 26/40\n",
      "14/14 [==============================] - 4s 258ms/step - loss: 0.6390 - accuracy: 0.6063 - val_loss: 1.3913 - val_accuracy: 0.0833\n",
      "Epoch 27/40\n",
      "14/14 [==============================] - 4s 254ms/step - loss: 0.6175 - accuracy: 0.5906 - val_loss: 1.0074 - val_accuracy: 0.2917\n",
      "Epoch 28/40\n",
      "14/14 [==============================] - 4s 257ms/step - loss: 0.6220 - accuracy: 0.6018 - val_loss: 1.1663 - val_accuracy: 0.2083\n",
      "Epoch 29/40\n",
      "14/14 [==============================] - 4s 256ms/step - loss: 0.6092 - accuracy: 0.6152 - val_loss: 1.1258 - val_accuracy: 0.0833\n",
      "Epoch 30/40\n",
      "14/14 [==============================] - 4s 255ms/step - loss: 0.6201 - accuracy: 0.5951 - val_loss: 1.3419 - val_accuracy: 0.0833\n",
      "Epoch 31/40\n",
      "14/14 [==============================] - 4s 257ms/step - loss: 0.5951 - accuracy: 0.5996 - val_loss: 1.1887 - val_accuracy: 0.2083\n",
      "Epoch 32/40\n",
      "14/14 [==============================] - 4s 256ms/step - loss: 0.5881 - accuracy: 0.6264 - val_loss: 1.4796 - val_accuracy: 0.0833\n",
      "Epoch 33/40\n",
      "14/14 [==============================] - 4s 256ms/step - loss: 0.6139 - accuracy: 0.6063 - val_loss: 1.0276 - val_accuracy: 0.4167\n",
      "Epoch 34/40\n",
      "14/14 [==============================] - 4s 255ms/step - loss: 0.6324 - accuracy: 0.6242 - val_loss: 1.3917 - val_accuracy: 0.0833\n",
      "Epoch 35/40\n",
      "14/14 [==============================] - 4s 258ms/step - loss: 0.6124 - accuracy: 0.5928 - val_loss: 1.5857 - val_accuracy: 0.1250\n",
      "Epoch 36/40\n",
      "14/14 [==============================] - 4s 252ms/step - loss: 0.6186 - accuracy: 0.5839 - val_loss: 1.2845 - val_accuracy: 0.0833\n",
      "Epoch 37/40\n",
      "14/14 [==============================] - 4s 254ms/step - loss: 0.5956 - accuracy: 0.6174 - val_loss: 1.4122 - val_accuracy: 0.1250\n",
      "Epoch 38/40\n",
      "14/14 [==============================] - 4s 255ms/step - loss: 0.5922 - accuracy: 0.6242 - val_loss: 2.0541 - val_accuracy: 0.0833\n",
      "Epoch 39/40\n",
      "14/14 [==============================] - 4s 252ms/step - loss: 0.6103 - accuracy: 0.5928 - val_loss: 1.1170 - val_accuracy: 0.2083\n",
      "Epoch 40/40\n",
      "14/14 [==============================] - 3s 246ms/step - loss: 0.5903 - accuracy: 0.6152 - val_loss: 1.5972 - val_accuracy: 0.0833\n"
     ]
    }
   ],
   "source": [
    "# Compiling the model using some basic parameters\n",
    "model.compile(loss=\"sparse_categorical_crossentropy\",\n",
    "                optimizer=\"adam\",\n",
    "                metrics=[\"accuracy\"])\n",
    "\n",
    "# Training the model, with 40 iterations\n",
    "# validation_split corresponds to the percentage of images used for the validation phase compared to all the images\n",
    "history = model.fit(X, y, batch_size=32, epochs=40, validation_split=0.05)"
   ]
  },
  {
   "cell_type": "code",
   "execution_count": 9,
   "id": "97c2ab60",
   "metadata": {},
   "outputs": [
    {
     "name": "stdout",
     "output_type": "stream",
     "text": [
      "Saved model to disk\n"
     ]
    },
    {
     "name": "stderr",
     "output_type": "stream",
     "text": [
      "WARNING:absl:Found untraced functions such as _jit_compiled_convolution_op, _jit_compiled_convolution_op, _jit_compiled_convolution_op while saving (showing 3 of 3). These functions will not be directly callable after loading.\n"
     ]
    },
    {
     "ename": "FailedPreconditionError",
     "evalue": "CNN.model is not a directory",
     "output_type": "error",
     "traceback": [
      "\u001b[0;31m---------------------------------------------------------------------------\u001b[0m",
      "\u001b[0;31mFailedPreconditionError\u001b[0m                   Traceback (most recent call last)",
      "Cell \u001b[0;32mIn [9], line 8\u001b[0m\n\u001b[1;32m      5\u001b[0m model\u001b[38;5;241m.\u001b[39msave_weights(\u001b[38;5;124m\"\u001b[39m\u001b[38;5;124mmodel.h5\u001b[39m\u001b[38;5;124m\"\u001b[39m)\n\u001b[1;32m      6\u001b[0m \u001b[38;5;28mprint\u001b[39m(\u001b[38;5;124m\"\u001b[39m\u001b[38;5;124mSaved model to disk\u001b[39m\u001b[38;5;124m\"\u001b[39m)\n\u001b[0;32m----> 8\u001b[0m \u001b[43mmodel\u001b[49m\u001b[38;5;241;43m.\u001b[39;49m\u001b[43msave\u001b[49m\u001b[43m(\u001b[49m\u001b[38;5;124;43m'\u001b[39;49m\u001b[38;5;124;43mCNN.model\u001b[39;49m\u001b[38;5;124;43m'\u001b[39;49m\u001b[43m)\u001b[49m\n",
      "File \u001b[0;32m~/miniconda3/envs/vortexdetect/lib/python3.10/site-packages/keras/utils/traceback_utils.py:70\u001b[0m, in \u001b[0;36mfilter_traceback.<locals>.error_handler\u001b[0;34m(*args, **kwargs)\u001b[0m\n\u001b[1;32m     67\u001b[0m     filtered_tb \u001b[38;5;241m=\u001b[39m _process_traceback_frames(e\u001b[38;5;241m.\u001b[39m__traceback__)\n\u001b[1;32m     68\u001b[0m     \u001b[38;5;66;03m# To get the full stack trace, call:\u001b[39;00m\n\u001b[1;32m     69\u001b[0m     \u001b[38;5;66;03m# `tf.debugging.disable_traceback_filtering()`\u001b[39;00m\n\u001b[0;32m---> 70\u001b[0m     \u001b[38;5;28;01mraise\u001b[39;00m e\u001b[38;5;241m.\u001b[39mwith_traceback(filtered_tb) \u001b[38;5;28;01mfrom\u001b[39;00m \u001b[38;5;28mNone\u001b[39m\n\u001b[1;32m     71\u001b[0m \u001b[38;5;28;01mfinally\u001b[39;00m:\n\u001b[1;32m     72\u001b[0m     \u001b[38;5;28;01mdel\u001b[39;00m filtered_tb\n",
      "File \u001b[0;32m~/miniconda3/envs/vortexdetect/lib/python3.10/site-packages/tensorflow/python/lib/io/file_io.py:511\u001b[0m, in \u001b[0;36mrecursive_create_dir_v2\u001b[0;34m(path)\u001b[0m\n\u001b[1;32m    499\u001b[0m \u001b[38;5;129m@tf_export\u001b[39m(\u001b[38;5;124m\"\u001b[39m\u001b[38;5;124mio.gfile.makedirs\u001b[39m\u001b[38;5;124m\"\u001b[39m)\n\u001b[1;32m    500\u001b[0m \u001b[38;5;28;01mdef\u001b[39;00m \u001b[38;5;21mrecursive_create_dir_v2\u001b[39m(path):\n\u001b[1;32m    501\u001b[0m   \u001b[38;5;124;03m\"\"\"Creates a directory and all parent/intermediate directories.\u001b[39;00m\n\u001b[1;32m    502\u001b[0m \n\u001b[1;32m    503\u001b[0m \u001b[38;5;124;03m  It succeeds if path already exists and is writable.\u001b[39;00m\n\u001b[0;32m   (...)\u001b[0m\n\u001b[1;32m    509\u001b[0m \u001b[38;5;124;03m    errors.OpError: If the operation fails.\u001b[39;00m\n\u001b[1;32m    510\u001b[0m \u001b[38;5;124;03m  \"\"\"\u001b[39;00m\n\u001b[0;32m--> 511\u001b[0m   \u001b[43m_pywrap_file_io\u001b[49m\u001b[38;5;241;43m.\u001b[39;49m\u001b[43mRecursivelyCreateDir\u001b[49m\u001b[43m(\u001b[49m\u001b[43mcompat\u001b[49m\u001b[38;5;241;43m.\u001b[39;49m\u001b[43mpath_to_bytes\u001b[49m\u001b[43m(\u001b[49m\u001b[43mpath\u001b[49m\u001b[43m)\u001b[49m\u001b[43m)\u001b[49m\n",
      "\u001b[0;31mFailedPreconditionError\u001b[0m: CNN.model is not a directory"
     ]
    }
   ],
   "source": [
    "model_json = model.to_json()\n",
    "with open(\"model.json\", \"w\") as json_file :\n",
    "    json_file.write(model_json)\n",
    "\n",
    "model.save_weights(\"model.h5\")\n",
    "print(\"Saved model to disk\")\n",
    "\n",
    "model.save('CNN.model')"
   ]
  },
  {
   "cell_type": "code",
   "execution_count": null,
   "id": "bca8fd37",
   "metadata": {},
   "outputs": [],
   "source": [
    "print(history.history.keys())\n",
    "plt.figure(1)\n",
    "plt.plot(history.history['acc'])\n",
    "plt.plot(history.history['val_acc'])\n",
    "plt.title('model accuracy')\n",
    "plt.ylabel('accuracy')\n",
    "plt.xlabel('epoch')\n",
    "plt.legend(['train', 'validation'], loc='upper left')"
   ]
  },
  {
   "cell_type": "code",
   "execution_count": null,
   "id": "8cda2ee8",
   "metadata": {},
   "outputs": [],
   "source": []
  },
  {
   "cell_type": "code",
   "execution_count": null,
   "id": "1758cfe3",
   "metadata": {},
   "outputs": [],
   "source": []
  },
  {
   "cell_type": "code",
   "execution_count": null,
   "id": "8d2c9224",
   "metadata": {},
   "outputs": [],
   "source": []
  }
 ],
 "metadata": {
  "kernelspec": {
   "display_name": "Python 3 (ipykernel)",
   "language": "python",
   "name": "python3"
  },
  "language_info": {
   "codemirror_mode": {
    "name": "ipython",
    "version": 3
   },
   "file_extension": ".py",
   "mimetype": "text/x-python",
   "name": "python",
   "nbconvert_exporter": "python",
   "pygments_lexer": "ipython3",
   "version": "3.10.6"
  }
 },
 "nbformat": 4,
 "nbformat_minor": 5
}
