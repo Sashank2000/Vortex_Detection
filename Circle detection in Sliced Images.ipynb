{
 "cells": [
  {
   "cell_type": "code",
   "execution_count": 33,
   "id": "c675e99d",
   "metadata": {},
   "outputs": [],
   "source": [
    "import sys\n",
    "import cv2 as cv\n",
    "import tensorflow as tf\n",
    "from os import listdir\n",
    "import os\n",
    "from matplotlib import image\n",
    "import matplotlib.patches as mpatches\n",
    "from PIL import Image\n",
    "import matplotlib.pyplot as plt\n",
    "import numpy as np\n",
    "import math\n",
    "import random\n",
    "from PIL import Image\n",
    "import numpy as np"
   ]
  },
  {
   "cell_type": "code",
   "execution_count": 34,
   "id": "569bb398",
   "metadata": {},
   "outputs": [],
   "source": [
    "itr=0\n",
    "while itr<127:\n",
    "    suffix=str(itr)\n",
    "    if len(suffix)==1:\n",
    "        suffix=\"000\"+suffix\n",
    "    elif len(suffix)==2:\n",
    "        suffix=\"00\"+suffix\n",
    "    elif len(suffix)==3:\n",
    "        suffix=\"0\"+suffix\n",
    "    \n",
    "    filename = \"/home/sashankk/Proj/MAGNETOHYDRODYNAMIC-TURBULENCE-master/sliced/v2/visit\"+suffix+\".png\"\n",
    "    # Loads an image\n",
    "    src = cv.imread(cv.samples.findFile(filename), cv.IMREAD_COLOR)\n",
    "    # Check if image is loaded fine\n",
    "    if src is None:\n",
    "        print ('Error opening image!')\n",
    "        print ('Usage: hough_circle.py [image_name -- default ' + default_file + '] \\n')\n",
    "    \n",
    "    gray = cv.cvtColor(src, cv.COLOR_BGR2GRAY)\n",
    "    gray = cv.medianBlur(gray, 5)\n",
    "    \n",
    "    rows = gray.shape[0]\n",
    "    circles = cv.HoughCircles(gray, cv.HOUGH_GRADIENT,  1, rows /4, param1=50, param2=50, minRadius=150, maxRadius=200)\n",
    "    \n",
    "    if circles is not None:\n",
    "        circles = np.uint16(np.around(circles))\n",
    "        for i in circles[0, :]:\n",
    "            center = (i[0], i[1])\n",
    "            # circle center\n",
    "            cv.circle(src, center, 1, (0, 100, 100), 3)\n",
    "            # circle outline\n",
    "            radius = i[2]\n",
    "            cv.circle(src, center, radius, (255, 0, 255), 3)    \n",
    "            \n",
    "    cv.destroyAllWindows()\n",
    "    cv.imwrite('test_output'+suffix+'.jpg', src)\n",
    "    \n",
    "    itr+=1\n",
    "    "
   ]
  },
  {
   "cell_type": "code",
   "execution_count": null,
   "id": "40c81c8d",
   "metadata": {},
   "outputs": [],
   "source": [
    "#     cv.imshow(\"detected circles\", src)\n",
    "#     cv.waitKey(60)"
   ]
  }
 ],
 "metadata": {
  "kernelspec": {
   "display_name": "Python [conda env:vortexdetect] *",
   "language": "python",
   "name": "conda-env-vortexdetect-py"
  },
  "language_info": {
   "codemirror_mode": {
    "name": "ipython",
    "version": 3
   },
   "file_extension": ".py",
   "mimetype": "text/x-python",
   "name": "python",
   "nbconvert_exporter": "python",
   "pygments_lexer": "ipython3",
   "version": "3.10.6"
  }
 },
 "nbformat": 4,
 "nbformat_minor": 5
}
