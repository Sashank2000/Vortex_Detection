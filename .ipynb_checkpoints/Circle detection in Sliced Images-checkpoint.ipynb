{
 "cells": [
  {
   "cell_type": "code",
   "execution_count": 35,
   "id": "401757c6",
   "metadata": {},
   "outputs": [],
   "source": [
    "import h5py\n",
    "import numpy as np"
   ]
  },
  {
   "cell_type": "code",
   "execution_count": 36,
   "id": "c8a08341",
   "metadata": {},
   "outputs": [],
   "source": [
    "f = h5py.File(\"/home/sashankk/Proj/maxhelmaxrot/data/velocity.10000.h5\",\"r\")"
   ]
  },
  {
   "cell_type": "code",
   "execution_count": 37,
   "id": "57552e5d",
   "metadata": {},
   "outputs": [
    {
     "data": {
      "text/plain": [
       "['PS']"
      ]
     },
     "execution_count": 37,
     "metadata": {},
     "output_type": "execute_result"
    }
   ],
   "source": [
    "list(f.keys())"
   ]
  },
  {
   "cell_type": "code",
   "execution_count": 38,
   "id": "784a0070",
   "metadata": {},
   "outputs": [
    {
     "data": {
      "text/plain": [
       "['vx', 'vy', 'vz']"
      ]
     },
     "execution_count": 38,
     "metadata": {},
     "output_type": "execute_result"
    }
   ],
   "source": [
    "ds=f[\"PS\"]\n",
    "list(ds.keys())"
   ]
  },
  {
   "cell_type": "code",
   "execution_count": 55,
   "id": "23a0f458",
   "metadata": {},
   "outputs": [
    {
     "data": {
      "text/plain": [
       "dtype('<f8')"
      ]
     },
     "execution_count": 55,
     "metadata": {},
     "output_type": "execute_result"
    }
   ],
   "source": [
    "c1=ds[\"vx\"]\n",
    "c2=ds[\"vy\"]\n",
    "c3=ds[\"vz\"]\n",
    "c1.dtype"
   ]
  },
  {
   "cell_type": "code",
   "execution_count": 56,
   "id": "017184a1",
   "metadata": {},
   "outputs": [
    {
     "data": {
      "text/plain": [
       "array([0.8754834 , 0.88413194, 0.88197187, 0.86405018, 0.83273706,\n",
       "       0.79804505, 0.77015485, 0.75290964, 0.74439743, 0.74058804,\n",
       "       0.73693682, 0.72914475, 0.71563557, 0.69946859, 0.68636233,\n",
       "       0.68073747, 0.68360334, 0.69266793, 0.70403434, 0.71526174,\n",
       "       0.72724752, 0.74288754, 0.76464846, 0.79329358, 0.82750067,\n",
       "       0.86453972, 0.90201481, 0.93870058, 0.97374441, 1.00597498,\n",
       "       1.03394929, 1.05598613, 1.07076292, 1.07897199, 1.08391836,\n",
       "       1.08943771, 1.09757205, 1.10863178, 1.12220492, 1.13741587,\n",
       "       1.15339842, 1.16975243, 1.18581456, 1.20057352, 1.21411832,\n",
       "       1.22744633, 1.24047201, 1.252287  , 1.26311412, 1.27392299,\n",
       "       1.2847664 , 1.294871  , 1.30311866, 1.30771999, 1.30715518,\n",
       "       1.30188754, 1.29351578, 1.28218109, 1.26616637, 1.24365643,\n",
       "       1.21406333, 1.17909964, 1.1437755 , 1.11475853, 1.09638348,\n",
       "       1.08860781, 1.08812028, 1.09024115, 1.09045561, 1.08471259,\n",
       "       1.06855964, 1.03870335, 0.99690262, 0.94936651, 0.90106905,\n",
       "       0.85308298, 0.80486897, 0.75636036, 0.70855951, 0.66350094,\n",
       "       0.62288936, 0.58709468, 0.55582513, 0.52843563, 0.50402865,\n",
       "       0.48232565, 0.46296887, 0.4443931 , 0.42612006, 0.41058776,\n",
       "       0.39976901, 0.39217621, 0.38537864, 0.37924352, 0.37539735,\n",
       "       0.37502217, 0.37794543, 0.38334911, 0.39057182, 0.39902182,\n",
       "       0.40852033, 0.42031891, 0.43671375, 0.45965089, 0.49036892,\n",
       "       0.5293956 , 0.57613443, 0.62889309, 0.68491589, 0.74033585,\n",
       "       0.79138069, 0.83575553, 0.87249579, 0.9017098 , 0.9247598 ,\n",
       "       0.94306851, 0.95659187, 0.96475252, 0.96841681, 0.96903314,\n",
       "       0.96531466, 0.95267744, 0.92822706, 0.89638342, 0.86797417,\n",
       "       0.85276298, 0.85280347, 0.86282549])"
      ]
     },
     "execution_count": 56,
     "metadata": {},
     "output_type": "execute_result"
    }
   ],
   "source": [
    "c1[0][0]"
   ]
  },
  {
   "cell_type": "code",
   "execution_count": 62,
   "id": "0bcfdab0",
   "metadata": {},
   "outputs": [
    {
     "name": "stdout",
     "output_type": "stream",
     "text": [
      "[0.8754834  0.84836488 0.80832996 ... 0.93142424 0.90873517 0.88950714]\n",
      "vx: [0.8754834  0.84836488 0.80832996 ... 0.93142424 0.90873517 0.88950714]\n",
      "<class 'numpy.ndarray'>\n",
      "vy: [-0.5853062  -0.5925836  -0.5912451  ... -0.54847625 -0.55489971\n",
      " -0.56806562]\n",
      "<class 'numpy.ndarray'>\n",
      "vz: [0.19796996 0.21924518 0.226244   ... 0.11235708 0.1470173  0.17288001]\n",
      "<class 'numpy.ndarray'>\n",
      "16384 16384 16384\n"
     ]
    }
   ],
   "source": [
    "write_vx=np.array([])\n",
    "new=np.array([])\n",
    "i,j,k=0,0,0\n",
    "for i in range(len(c1)):\n",
    "    for j in range(len(c1[i])):\n",
    "        new=np.append(new, [c1[i][j][k]])\n",
    "    #print(\"new1:\",new)\n",
    "write_vx=np.append(write_vx,new)\n",
    "\n",
    "print(write_vx[0])    \n",
    "print(\"vx:\",write_vx)\n",
    "print(type(write_vx))\n",
    "\n",
    "write_vy=np.array([])\n",
    "new=np.array([])\n",
    "i,j,k=0,0,0\n",
    "for i in range(len(c2)):\n",
    "    for j in range(len(c2[i])):\n",
    "        new=np.append(new, [c2[i][j][k]])\n",
    "write_vy=np.append(write_vy,new)\n",
    "    \n",
    "print(\"vy:\",write_vy)\n",
    "print(type(write_vy))\n",
    "\n",
    "write_vz=np.array([])\n",
    "new=np.array([])\n",
    "i,j,k=0,0,0\n",
    "for i in range(len(c3)):\n",
    "    for j in range(len(c3[i])):\n",
    "        new=np.append(new, [c3[i][j][k]])\n",
    "write_vz=np.append(write_vz,new)\n",
    "    \n",
    "print(\"vz:\",write_vz)\n",
    "print(type(write_vz))\n",
    "\n",
    "print(len(write_vx),len(write_vy),len(write_vz))"
   ]
  },
  {
   "cell_type": "code",
   "execution_count": 42,
   "id": "3fe12c3a",
   "metadata": {},
   "outputs": [],
   "source": [
    "with h5py.File(\"/home/sashankk/Proj/maxhelmaxrot/data_vz0/velocity10000.h5\",\"w\") as hf:\n",
    "    g1=hf.create_group(\"PS\")\n",
    "    g1.create_dataset(\"vx\", data=write_vx)\n",
    "    g1.create_dataset(\"vy\", data=write_vy)\n",
    "    g1.create_dataset(\"vz\", data=write_vz)"
   ]
  },
  {
   "cell_type": "code",
   "execution_count": 43,
   "id": "94b0f837",
   "metadata": {},
   "outputs": [
    {
     "data": {
      "text/plain": [
       "['PS']"
      ]
     },
     "execution_count": 43,
     "metadata": {},
     "output_type": "execute_result"
    }
   ],
   "source": [
    "f2=h5py.File(\"/home/sashankk/Proj/maxhelmaxrot/data_vz0/velocity10000.h5\",\"r\")\n",
    "list(f2.keys())"
   ]
  },
  {
   "cell_type": "code",
   "execution_count": 44,
   "id": "f40b8399",
   "metadata": {},
   "outputs": [],
   "source": [
    "df1=f2[\"PS\"]"
   ]
  },
  {
   "cell_type": "code",
   "execution_count": 45,
   "id": "641a9a5b",
   "metadata": {},
   "outputs": [
    {
     "data": {
      "text/plain": [
       "['vx', 'vy', 'vz']"
      ]
     },
     "execution_count": 45,
     "metadata": {},
     "output_type": "execute_result"
    }
   ],
   "source": [
    "list(df1.keys())"
   ]
  },
  {
   "cell_type": "code",
   "execution_count": 46,
   "id": "3c8a0df8",
   "metadata": {},
   "outputs": [],
   "source": [
    "c1=df1[\"vx\"]\n",
    "c2=df1[\"vy\"]\n",
    "c3=df1[\"vz\"]"
   ]
  },
  {
   "cell_type": "code",
   "execution_count": 47,
   "id": "e360d0d7",
   "metadata": {},
   "outputs": [
    {
     "data": {
      "text/plain": [
       "0.8754834017069177"
      ]
     },
     "execution_count": 47,
     "metadata": {},
     "output_type": "execute_result"
    }
   ],
   "source": [
    "c1[0]"
   ]
  },
  {
   "cell_type": "code",
   "execution_count": null,
   "id": "df3643ab",
   "metadata": {},
   "outputs": [],
   "source": []
  }
 ],
 "metadata": {
  "kernelspec": {
   "display_name": "Python [conda env:vortexdetect] *",
   "language": "python",
   "name": "conda-env-vortexdetect-py"
  },
  "language_info": {
   "codemirror_mode": {
    "name": "ipython",
    "version": 3
   },
   "file_extension": ".py",
   "mimetype": "text/x-python",
   "name": "python",
   "nbconvert_exporter": "python",
   "pygments_lexer": "ipython3",
   "version": "3.10.6"
  }
 },
 "nbformat": 4,
 "nbformat_minor": 5
}
