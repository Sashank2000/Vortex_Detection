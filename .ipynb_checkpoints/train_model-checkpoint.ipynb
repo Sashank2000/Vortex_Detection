{
 "cells": [
  {
   "cell_type": "code",
   "execution_count": 25,
   "id": "08fb5e5a",
   "metadata": {},
   "outputs": [],
   "source": [
    "import numpy as np\n",
    "import os\n",
    "from matplotlib import pyplot as plt\n",
    "import cv2\n",
    "import random\n",
    "import pickle"
   ]
  },
  {
   "cell_type": "code",
   "execution_count": 26,
   "id": "3d6745ee",
   "metadata": {},
   "outputs": [],
   "source": [
    "file_list, class_list = [], []\n",
    "\n",
    "IMG_SIZE = 80\n",
    "DATADIR = 'Train'\n",
    "CATEGORIES = [\"left\",\"right\",\"up\",\"down\"]\n",
    "\n",
    "for category in CATEGORIES :\n",
    "    path = os.path.join(DATADIR, category)\n",
    "    for img in os.listdir(path):\n",
    "        img_array = cv2.imread(os.path.join(path, img), cv2.IMREAD_GRAYSCALE)\n",
    "        #plt.imshow(img_array)\n",
    "\n",
    "training_data = []\n",
    "\n",
    "def create_training_data():\n",
    "    for category in CATEGORIES :\n",
    "        path = os.path.join(DATADIR, category)\n",
    "        class_num = CATEGORIES.index(category)\n",
    "        for img in os.listdir(path):\n",
    "            try :\n",
    "                img_array = cv2.imread(os.path.join(path, img), cv2.IMREAD_GRAYSCALE)\n",
    "                #print(img_array,len(img_array))\n",
    "                new_array = cv2.resize(img_array, (IMG_SIZE, IMG_SIZE))\n",
    "                training_data.append([new_array, class_num])\n",
    "            except Exception as e:\n",
    "                pass\n",
    "\n",
    "create_training_data()\n",
    "X, y = [], []\n",
    "\n",
    "for features, label in training_data:\n",
    "    X.append(features)\n",
    "    y.append(label)\n",
    "\n",
    "#print(len(X),len(y),X[0])\n",
    "\n",
    "#print(y)\n"
   ]
  },
  {
   "cell_type": "code",
   "execution_count": 27,
   "id": "8db1186e",
   "metadata": {},
   "outputs": [],
   "source": [
    "X = np.array(X).reshape(-1, IMG_SIZE, IMG_SIZE, 1)\n",
    "#print(len(X[0]))\n",
    "y = np.array(y)\n",
    "\n",
    "# Creating the files containing all the information about your model\n",
    "pickle_out = open(\"X.pickle\", \"wb\")\n",
    "pickle.dump(X, pickle_out)\n",
    "pickle_out.close()\n",
    "\n",
    "pickle_out = open(\"y.pickle\", \"wb\")\n",
    "pickle.dump(y, pickle_out)\n",
    "pickle_out.close()\n",
    "\n",
    "pickle_in = open(\"X.pickle\", \"rb\")\n",
    "X = pickle.load(pickle_in)"
   ]
  },
  {
   "cell_type": "code",
   "execution_count": 28,
   "id": "21476ff4",
   "metadata": {},
   "outputs": [],
   "source": [
    "import tensorflow as tf \n",
    "from tensorflow.keras.models import Sequential\n",
    "from tensorflow.keras.layers import Dense, Dropout, Activation, Flatten, Conv2D, MaxPooling2D\n",
    "import pickle\n",
    "from keras.models import model_from_json\n",
    "from keras.models import load_model\n",
    "import matplotlib.pyplot as plt"
   ]
  },
  {
   "cell_type": "code",
   "execution_count": 29,
   "id": "edfd648d",
   "metadata": {},
   "outputs": [],
   "source": [
    "# Opening the files about data\n",
    "X = pickle.load(open(\"X.pickle\", \"rb\"))\n",
    "y = pickle.load(open(\"y.pickle\", \"rb\"))\n",
    "\n",
    "# normalizing data (a pixel goes from 0 to 255)\n",
    "X = X/255.0"
   ]
  },
  {
   "cell_type": "code",
   "execution_count": 30,
   "id": "61ef340b",
   "metadata": {},
   "outputs": [],
   "source": [
    "# Building the model\n",
    "model = Sequential()\n",
    "# 3 convolutional layers\n",
    "model.add(Conv2D(32, (3, 3), input_shape = X.shape[1:]))\n",
    "model.add(Activation(\"relu\"))\n",
    "model.add(MaxPooling2D(pool_size=(2,2)))\n",
    "\n",
    "model.add(Conv2D(64, (3, 3)))\n",
    "model.add(Activation(\"relu\"))\n",
    "model.add(MaxPooling2D(pool_size=(2,2)))\n",
    "\n",
    "model.add(Conv2D(64, (3, 3)))\n",
    "model.add(Activation(\"relu\"))\n",
    "model.add(MaxPooling2D(pool_size=(2,2)))\n",
    "model.add(Dropout(0.25))\n",
    "\n",
    "# 2 hidden layers\n",
    "model.add(Flatten())\n",
    "model.add(Dense(128))\n",
    "model.add(Activation(\"relu\"))\n",
    "\n",
    "model.add(Dense(128))\n",
    "model.add(Activation(\"relu\"))\n",
    "\n",
    "# The output layer with 2 neurons, for 2 classes\n",
    "model.add(Dense(4))\n",
    "model.add(Activation(\"softmax\"))"
   ]
  },
  {
   "cell_type": "code",
   "execution_count": 31,
   "id": "716d2e10",
   "metadata": {},
   "outputs": [
    {
     "name": "stdout",
     "output_type": "stream",
     "text": [
      "Model: \"sequential_2\"\n",
      "_________________________________________________________________\n",
      "Layer (type)                 Output Shape              Param #   \n",
      "=================================================================\n",
      "conv2d_6 (Conv2D)            (None, 78, 78, 32)        320       \n",
      "_________________________________________________________________\n",
      "activation_12 (Activation)   (None, 78, 78, 32)        0         \n",
      "_________________________________________________________________\n",
      "max_pooling2d_6 (MaxPooling2 (None, 39, 39, 32)        0         \n",
      "_________________________________________________________________\n",
      "conv2d_7 (Conv2D)            (None, 37, 37, 64)        18496     \n",
      "_________________________________________________________________\n",
      "activation_13 (Activation)   (None, 37, 37, 64)        0         \n",
      "_________________________________________________________________\n",
      "max_pooling2d_7 (MaxPooling2 (None, 18, 18, 64)        0         \n",
      "_________________________________________________________________\n",
      "conv2d_8 (Conv2D)            (None, 16, 16, 64)        36928     \n",
      "_________________________________________________________________\n",
      "activation_14 (Activation)   (None, 16, 16, 64)        0         \n",
      "_________________________________________________________________\n",
      "max_pooling2d_8 (MaxPooling2 (None, 8, 8, 64)          0         \n",
      "_________________________________________________________________\n",
      "dropout_2 (Dropout)          (None, 8, 8, 64)          0         \n",
      "_________________________________________________________________\n",
      "flatten_2 (Flatten)          (None, 4096)              0         \n",
      "_________________________________________________________________\n",
      "dense_6 (Dense)              (None, 128)               524416    \n",
      "_________________________________________________________________\n",
      "activation_15 (Activation)   (None, 128)               0         \n",
      "_________________________________________________________________\n",
      "dense_7 (Dense)              (None, 128)               16512     \n",
      "_________________________________________________________________\n",
      "activation_16 (Activation)   (None, 128)               0         \n",
      "_________________________________________________________________\n",
      "dense_8 (Dense)              (None, 4)                 516       \n",
      "_________________________________________________________________\n",
      "activation_17 (Activation)   (None, 4)                 0         \n",
      "=================================================================\n",
      "Total params: 597,188\n",
      "Trainable params: 597,188\n",
      "Non-trainable params: 0\n",
      "_________________________________________________________________\n"
     ]
    }
   ],
   "source": [
    "model.summary()"
   ]
  },
  {
   "cell_type": "code",
   "execution_count": 32,
   "id": "58c6c18c",
   "metadata": {},
   "outputs": [
    {
     "name": "stdout",
     "output_type": "stream",
     "text": [
      "Train on 447 samples, validate on 24 samples\n",
      "Epoch 1/40\n",
      "447/447 [==============================] - 1s 3ms/sample - loss: 1.3851 - acc: 0.2550 - val_loss: 1.8485 - val_acc: 0.0000e+00\n",
      "Epoch 2/40\n",
      "447/447 [==============================] - 1s 2ms/sample - loss: 1.3671 - acc: 0.3356 - val_loss: 1.5230 - val_acc: 0.0000e+00\n",
      "Epoch 3/40\n",
      "447/447 [==============================] - 1s 2ms/sample - loss: 1.2800 - acc: 0.4228 - val_loss: 1.1514 - val_acc: 0.4167\n",
      "Epoch 4/40\n",
      "447/447 [==============================] - 1s 2ms/sample - loss: 0.9832 - acc: 0.5391 - val_loss: 0.8136 - val_acc: 0.5833\n",
      "Epoch 5/40\n",
      "447/447 [==============================] - 1s 2ms/sample - loss: 0.8214 - acc: 0.5459 - val_loss: 0.9954 - val_acc: 0.2917\n",
      "Epoch 6/40\n",
      "447/447 [==============================] - 1s 2ms/sample - loss: 0.7600 - acc: 0.5705 - val_loss: 0.8146 - val_acc: 0.5000\n",
      "Epoch 7/40\n",
      "447/447 [==============================] - 1s 2ms/sample - loss: 0.7402 - acc: 0.5839 - val_loss: 0.7204 - val_acc: 0.5833\n",
      "Epoch 8/40\n",
      "447/447 [==============================] - 1s 2ms/sample - loss: 0.7203 - acc: 0.5951 - val_loss: 1.0245 - val_acc: 0.3333\n",
      "Epoch 9/40\n",
      "447/447 [==============================] - 1s 2ms/sample - loss: 0.7109 - acc: 0.5749 - val_loss: 0.9957 - val_acc: 0.1667\n",
      "Epoch 10/40\n",
      "447/447 [==============================] - 1s 2ms/sample - loss: 0.7063 - acc: 0.5951 - val_loss: 0.8192 - val_acc: 0.4583\n",
      "Epoch 11/40\n",
      "447/447 [==============================] - 1s 2ms/sample - loss: 0.6824 - acc: 0.5928 - val_loss: 0.8365 - val_acc: 0.3750\n",
      "Epoch 12/40\n",
      "447/447 [==============================] - 1s 2ms/sample - loss: 0.6892 - acc: 0.5705 - val_loss: 0.9394 - val_acc: 0.2500\n",
      "Epoch 13/40\n",
      "447/447 [==============================] - 1s 2ms/sample - loss: 0.6721 - acc: 0.6130 - val_loss: 1.0053 - val_acc: 0.3750\n",
      "Epoch 14/40\n",
      "447/447 [==============================] - 1s 2ms/sample - loss: 0.6671 - acc: 0.6063 - val_loss: 0.9816 - val_acc: 0.3750\n",
      "Epoch 15/40\n",
      "447/447 [==============================] - 1s 2ms/sample - loss: 0.6635 - acc: 0.5772 - val_loss: 0.8551 - val_acc: 0.3750\n",
      "Epoch 16/40\n",
      "447/447 [==============================] - 1s 2ms/sample - loss: 0.6517 - acc: 0.5928 - val_loss: 1.0747 - val_acc: 0.2917\n",
      "Epoch 17/40\n",
      "447/447 [==============================] - 1s 2ms/sample - loss: 0.6507 - acc: 0.5817 - val_loss: 0.9760 - val_acc: 0.2083\n",
      "Epoch 18/40\n",
      "447/447 [==============================] - 1s 2ms/sample - loss: 0.6441 - acc: 0.6018 - val_loss: 0.9194 - val_acc: 0.3750\n",
      "Epoch 19/40\n",
      "447/447 [==============================] - 1s 2ms/sample - loss: 0.6402 - acc: 0.5817 - val_loss: 1.1699 - val_acc: 0.1250\n",
      "Epoch 20/40\n",
      "447/447 [==============================] - 1s 2ms/sample - loss: 0.6415 - acc: 0.6085 - val_loss: 0.8076 - val_acc: 0.5417\n",
      "Epoch 21/40\n",
      "447/447 [==============================] - 1s 2ms/sample - loss: 0.6397 - acc: 0.5951 - val_loss: 1.0907 - val_acc: 0.1250\n",
      "Epoch 22/40\n",
      "447/447 [==============================] - 1s 2ms/sample - loss: 0.6266 - acc: 0.6219 - val_loss: 1.2435 - val_acc: 0.1667\n",
      "Epoch 23/40\n",
      "447/447 [==============================] - 1s 2ms/sample - loss: 0.6260 - acc: 0.6063 - val_loss: 0.7563 - val_acc: 0.4583\n",
      "Epoch 24/40\n",
      "447/447 [==============================] - 1s 2ms/sample - loss: 0.6421 - acc: 0.5928 - val_loss: 1.0907 - val_acc: 0.3333\n",
      "Epoch 25/40\n",
      "447/447 [==============================] - 1s 2ms/sample - loss: 0.6194 - acc: 0.5996 - val_loss: 1.1569 - val_acc: 0.1667\n",
      "Epoch 26/40\n",
      "447/447 [==============================] - 1s 2ms/sample - loss: 0.6127 - acc: 0.6197 - val_loss: 0.9897 - val_acc: 0.2917\n",
      "Epoch 27/40\n",
      "447/447 [==============================] - 1s 2ms/sample - loss: 0.6360 - acc: 0.5660 - val_loss: 1.3693 - val_acc: 0.1250\n",
      "Epoch 28/40\n",
      "447/447 [==============================] - 1s 2ms/sample - loss: 0.6003 - acc: 0.6286 - val_loss: 1.0588 - val_acc: 0.3333\n",
      "Epoch 29/40\n",
      "447/447 [==============================] - 1s 2ms/sample - loss: 0.6189 - acc: 0.5884 - val_loss: 1.3996 - val_acc: 0.1250\n",
      "Epoch 30/40\n",
      "447/447 [==============================] - 1s 2ms/sample - loss: 0.6229 - acc: 0.6107 - val_loss: 1.1430 - val_acc: 0.2083\n",
      "Epoch 31/40\n",
      "447/447 [==============================] - 1s 2ms/sample - loss: 0.6091 - acc: 0.5817 - val_loss: 1.3215 - val_acc: 0.3333\n",
      "Epoch 32/40\n",
      "447/447 [==============================] - 1s 2ms/sample - loss: 0.6069 - acc: 0.5951 - val_loss: 1.2001 - val_acc: 0.1667\n",
      "Epoch 33/40\n",
      "447/447 [==============================] - 1s 2ms/sample - loss: 0.6228 - acc: 0.5772 - val_loss: 1.3054 - val_acc: 0.1250\n",
      "Epoch 34/40\n",
      "447/447 [==============================] - 1s 2ms/sample - loss: 0.6149 - acc: 0.6264 - val_loss: 1.4333 - val_acc: 0.1667\n",
      "Epoch 35/40\n",
      "447/447 [==============================] - 1s 2ms/sample - loss: 0.5975 - acc: 0.6063 - val_loss: 1.1397 - val_acc: 0.2917\n",
      "Epoch 36/40\n",
      "447/447 [==============================] - 1s 2ms/sample - loss: 0.5936 - acc: 0.5928 - val_loss: 1.6560 - val_acc: 0.1250\n",
      "Epoch 37/40\n",
      "447/447 [==============================] - 1s 2ms/sample - loss: 0.5939 - acc: 0.5973 - val_loss: 1.4039 - val_acc: 0.1250\n",
      "Epoch 38/40\n",
      "447/447 [==============================] - 1s 2ms/sample - loss: 0.5897 - acc: 0.5906 - val_loss: 1.4786 - val_acc: 0.1250\n",
      "Epoch 39/40\n",
      "447/447 [==============================] - 1s 2ms/sample - loss: 0.5856 - acc: 0.6286 - val_loss: 1.5295 - val_acc: 0.1250\n",
      "Epoch 40/40\n",
      "447/447 [==============================] - 1s 2ms/sample - loss: 0.5788 - acc: 0.6063 - val_loss: 1.7259 - val_acc: 0.1250\n"
     ]
    }
   ],
   "source": [
    "# Compiling the model using some basic parameters\n",
    "model.compile(loss=\"sparse_categorical_crossentropy\",\n",
    "                optimizer=\"adam\",\n",
    "                metrics=[\"accuracy\"])\n",
    "\n",
    "# Training the model, with 40 iterations\n",
    "# validation_split corresponds to the percentage of images used for the validation phase compared to all the images\n",
    "history = model.fit(X, y, batch_size=32, epochs=40, validation_split=0.05)"
   ]
  },
  {
   "cell_type": "code",
   "execution_count": 33,
   "id": "97c2ab60",
   "metadata": {},
   "outputs": [
    {
     "name": "stdout",
     "output_type": "stream",
     "text": [
      "Saved model to disk\n"
     ]
    }
   ],
   "source": [
    "model_json = model.to_json()\n",
    "with open(\"model.json\", \"w\") as json_file :\n",
    "    json_file.write(model_json)\n",
    "\n",
    "model.save_weights(\"model.h5\")\n",
    "print(\"Saved model to disk\")\n",
    "\n",
    "model.save('CNN.model')"
   ]
  },
  {
   "cell_type": "code",
   "execution_count": 34,
   "id": "bca8fd37",
   "metadata": {},
   "outputs": [
    {
     "name": "stdout",
     "output_type": "stream",
     "text": [
      "dict_keys(['loss', 'acc', 'val_loss', 'val_acc'])\n"
     ]
    },
    {
     "data": {
      "text/plain": [
       "<matplotlib.legend.Legend at 0x7f6806f0d6d8>"
      ]
     },
     "execution_count": 34,
     "metadata": {},
     "output_type": "execute_result"
    },
    {
     "data": {
      "image/png": "[encoded data removed]",
      "text/plain": [
       "<Figure size 432x288 with 1 Axes>"
      ]
     },
     "metadata": {
      "needs_background": "light"
     },
     "output_type": "display_data"
    }
   ],
   "source": [
    "print(history.history.keys())\n",
    "plt.figure(1)\n",
    "plt.plot(history.history['acc'])\n",
    "plt.plot(history.history['val_acc'])\n",
    "plt.title('model accuracy')\n",
    "plt.ylabel('accuracy')\n",
    "plt.xlabel('epoch')\n",
    "plt.legend(['train', 'validation'], loc='upper left')"
   ]
  },
  {
   "cell_type": "code",
   "execution_count": null,
   "id": "8cda2ee8",
   "metadata": {},
   "outputs": [],
   "source": []
  }
 ],
 "metadata": {
  "kernelspec": {
   "display_name": "Python 3 (ipykernel)",
   "language": "python",
   "name": "python3"
  },
  "language_info": {
   "codemirror_mode": {
    "name": "ipython",
    "version": 3
   },
   "file_extension": ".py",
   "mimetype": "text/x-python",
   "name": "python",
   "nbconvert_exporter": "python",
   "pygments_lexer": "ipython3",
   "version": "3.10.6"
  }
 },
 "nbformat": 4,
 "nbformat_minor": 5
}
