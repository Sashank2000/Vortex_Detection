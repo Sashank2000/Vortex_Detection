{
 "cells": [
  {
   "cell_type": "code",
   "execution_count": 1,
   "id": "401757c6",
   "metadata": {},
   "outputs": [],
   "source": [
    "import h5py\n",
    "import numpy as np"
   ]
  },
  {
   "cell_type": "code",
   "execution_count": 2,
   "id": "c8a08341",
   "metadata": {},
   "outputs": [],
   "source": [
    "f = h5py.File(\"/home/sashankk/Proj/maxhelmaxrot/data/velocity.400000.h5\",\"r\")"
   ]
  },
  {
   "cell_type": "code",
   "execution_count": 3,
   "id": "57552e5d",
   "metadata": {},
   "outputs": [
    {
     "data": {
      "text/plain": [
       "['PS']"
      ]
     },
     "execution_count": 3,
     "metadata": {},
     "output_type": "execute_result"
    }
   ],
   "source": [
    "list(f.keys())"
   ]
  },
  {
   "cell_type": "code",
   "execution_count": 4,
   "id": "784a0070",
   "metadata": {},
   "outputs": [
    {
     "data": {
      "text/plain": [
       "['vx', 'vy', 'vz']"
      ]
     },
     "execution_count": 4,
     "metadata": {},
     "output_type": "execute_result"
    }
   ],
   "source": [
    "ds=f[\"PS\"]\n",
    "list(ds.keys())"
   ]
  },
  {
   "cell_type": "code",
   "execution_count": 5,
   "id": "23a0f458",
   "metadata": {},
   "outputs": [
    {
     "data": {
      "text/plain": [
       "dtype('<f8')"
      ]
     },
     "execution_count": 5,
     "metadata": {},
     "output_type": "execute_result"
    }
   ],
   "source": [
    "c1=ds[\"vx\"]\n",
    "c2=ds[\"vy\"]\n",
    "c3=ds[\"vz\"]\n",
    "c1.dtype"
   ]
  },
  {
   "cell_type": "code",
   "execution_count": 29,
   "id": "017184a1",
   "metadata": {},
   "outputs": [
    {
     "data": {
      "text/plain": [
       "array([-0.66895734, -0.7352935 , -0.80434074, -0.87087733, -0.93050994,\n",
       "       -0.97834395, -1.01015355, -1.02480609, -1.02480217, -1.01422834,\n",
       "       -0.99584386, -0.97021058, -0.93810843, -0.90263112, -0.86739693,\n",
       "       -0.83420484, -0.80424711, -0.77945392, -0.76032729, -0.74464915,\n",
       "       -0.73099166, -0.72186249, -0.72064185, -0.72658884, -0.73635008,\n",
       "       -0.75023035, -0.77272216, -0.80566138, -0.84478427, -0.8841531 ,\n",
       "       -0.92017905, -0.95080721, -0.97463621, -0.99149242, -1.00158664,\n",
       "       -1.00454587, -1.00071075, -0.99235572, -0.98256998, -0.97384445,\n",
       "       -0.96835223, -0.9678773 , -0.97102757, -0.9710891 , -0.95988029,\n",
       "       -0.93470204, -0.90010105, -0.86370994, -0.83197743, -0.80816802,\n",
       "       -0.79255797, -0.78535857, -0.7894517 , -0.80872504, -0.84341013,\n",
       "       -0.88714794, -0.92859776, -0.9578236 , -0.97331463, -0.98249143,\n",
       "       -0.99450056, -1.01248721, -1.03153429, -1.04184623, -1.03443644,\n",
       "       -1.00732495, -0.96823804, -0.92894552, -0.89483114, -0.86256973,\n",
       "       -0.82979699, -0.80187898, -0.78444783, -0.77391438, -0.76180034,\n",
       "       -0.7459647 , -0.73213961, -0.72640913, -0.73101784, -0.74597506,\n",
       "       -0.77007782, -0.80044203, -0.83386986, -0.86862047, -0.90361853,\n",
       "       -0.93715463, -0.967715  , -0.99493453, -1.01872428, -1.03856478,\n",
       "       -1.05418977, -1.06576137, -1.07320642, -1.07656566, -1.0767632 ,\n",
       "       -1.07494542, -1.07162694, -1.06741207, -1.06392591, -1.06326505,\n",
       "       -1.06643934, -1.07200091, -1.07615319, -1.07493625, -1.06713332,\n",
       "       -1.05649438, -1.05205257, -1.06323949, -1.09047076, -1.1217682 ,\n",
       "       -1.14222896, -1.1451798 , -1.13139592, -1.10153528, -1.05479399,\n",
       "       -0.99321193, -0.9228424 , -0.85076268, -0.78224094, -0.7192977 ,\n",
       "       -0.6613089 , -0.60876293, -0.56633964, -0.54022365, -0.53293156,\n",
       "       -0.54307271, -0.56937147, -0.61189307])"
      ]
     },
     "execution_count": 29,
     "metadata": {},
     "output_type": "execute_result"
    }
   ],
   "source": [
    "c1[0][0]"
   ]
  },
  {
   "cell_type": "code",
   "execution_count": 39,
   "id": "0bcfdab0",
   "metadata": {},
   "outputs": [
    {
     "name": "stdout",
     "output_type": "stream",
     "text": [
      "128 128 128\n"
     ]
    }
   ],
   "source": [
    "write_vx=np.empty((128,128))\n",
    "\n",
    "i,j,k=63,0,0\n",
    "for j in range(len(c1[i])):\n",
    "    for k in range(len(c1[i][j])):\n",
    "        write_vx[j][k]=c1[i][j][k]\n",
    "\n",
    "write_vy=np.empty((128,128))\n",
    "i,j,k=63,0,0\n",
    "for j in range(len(c2[i])):\n",
    "    for k in range(len(c2[i][j])):\n",
    "        write_vy[j][k]=c2[i][j][k]\n",
    "\n",
    "\n",
    "write_vz=np.empty((128,128))\n",
    "i,j,k=63,0,0\n",
    "for j in range(len(c3[i])):\n",
    "    for k in range(len(c3[i][j])):\n",
    "        write_vz[j][k]=c3[i][j][k]\n",
    "\n",
    "\n",
    "print(len(write_vx),len(write_vy),len(write_vz))"
   ]
  },
  {
   "cell_type": "code",
   "execution_count": 40,
   "id": "978d2384",
   "metadata": {},
   "outputs": [
    {
     "name": "stdout",
     "output_type": "stream",
     "text": [
      "(128, 128)\n"
     ]
    }
   ],
   "source": [
    "print(write_vx.shape)"
   ]
  },
  {
   "cell_type": "code",
   "execution_count": 41,
   "id": "48fe7636",
   "metadata": {
    "scrolled": true
   },
   "outputs": [],
   "source": [
    "with h5py.File(\"/home/sashankk/Proj/maxhelmaxrot/data_vz0/velocity100012.h5\",\"w\") as hf:\n",
    "    g1=hf.create_group(\"PS\")\n",
    "    g1.create_dataset(\"vx\", data=write_vx)\n",
    "    g1.create_dataset(\"vy\", data=write_vy)\n",
    "    g1.create_dataset(\"vz\", data=write_vz)"
   ]
  },
  {
   "cell_type": "code",
   "execution_count": 38,
   "id": "509fd54e",
   "metadata": {},
   "outputs": [
    {
     "data": {
      "text/plain": [
       "['PS']"
      ]
     },
     "execution_count": 38,
     "metadata": {},
     "output_type": "execute_result"
    }
   ],
   "source": [
    "f2=h5py.File(\"/home/sashankk/Proj/maxhelmaxrot/data_vz0/velocity10000.h5\",\"r\")\n",
    "list(f2.keys())"
   ]
  },
  {
   "cell_type": "code",
   "execution_count": 112,
   "id": "5042d40b",
   "metadata": {},
   "outputs": [],
   "source": [
    "df1=f2[\"PS\"]"
   ]
  },
  {
   "cell_type": "code",
   "execution_count": 93,
   "id": "25bd52c0",
   "metadata": {},
   "outputs": [
    {
     "data": {
      "text/plain": [
       "['vx', 'vy', 'vz']"
      ]
     },
     "execution_count": 93,
     "metadata": {},
     "output_type": "execute_result"
    }
   ],
   "source": [
    "list(df1.keys())"
   ]
  },
  {
   "cell_type": "code",
   "execution_count": 94,
   "id": "32e9ee11",
   "metadata": {},
   "outputs": [],
   "source": [
    "c11=df1[\"vx\"]\n",
    "c21=df1[\"vy\"]\n",
    "c31=df1[\"vz\"]"
   ]
  },
  {
   "cell_type": "code",
   "execution_count": 95,
   "id": "128a9c98",
   "metadata": {},
   "outputs": [
    {
     "data": {
      "text/plain": [
       "array([[0.8754834 , 0.88413194, 0.88197187, ..., 0.85276298, 0.85280347,\n",
       "        0.86282549],\n",
       "       [0.84836488, 0.84727733, 0.83039839, ..., 0.81200548, 0.82356321,\n",
       "        0.83804445],\n",
       "       [0.80832996, 0.79291674, 0.76412497, ..., 0.77984343, 0.79592181,\n",
       "        0.80771453],\n",
       "       ...,\n",
       "       [0.9411998 , 0.94079541, 0.94882905, ..., 1.01984325, 0.98625315,\n",
       "        0.95662419],\n",
       "       [0.91644145, 0.92492794, 0.93560464, ..., 0.96450348, 0.93408147,\n",
       "        0.91752319],\n",
       "       [0.89615785, 0.90786324, 0.91568072, ..., 0.90514575, 0.88859291,\n",
       "        0.88739851]])"
      ]
     },
     "execution_count": 95,
     "metadata": {},
     "output_type": "execute_result"
    }
   ],
   "source": [
    "c1[0]"
   ]
  },
  {
   "cell_type": "code",
   "execution_count": null,
   "id": "d1f3a9a9",
   "metadata": {},
   "outputs": [],
   "source": []
  }
 ],
 "metadata": {
  "kernelspec": {
   "display_name": "Python [conda env:vortexdetect] *",
   "language": "python",
   "name": "conda-env-vortexdetect-py"
  },
  "language_info": {
   "codemirror_mode": {
    "name": "ipython",
    "version": 3
   },
   "file_extension": ".py",
   "mimetype": "text/x-python",
   "name": "python",
   "nbconvert_exporter": "python",
   "pygments_lexer": "ipython3",
   "version": "3.10.6"
  }
 },
 "nbformat": 4,
 "nbformat_minor": 5
}
